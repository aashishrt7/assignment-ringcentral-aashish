{
  "cells": [
    {
      "cell_type": "code",
      "execution_count": null,
      "metadata": {
        "colab": {
          "base_uri": "https://localhost:8080/"
        },
        "id": "TAMU3OPLl6tM",
        "outputId": "669ff86d-ee90-485c-f540-018a2524aeba"
      },
      "outputs": [],
      "source": [
        "#install openai module\n",
        "!pip install openai"
      ]
    },
    {
      "cell_type": "code",
      "execution_count": 71,
      "metadata": {
        "id": "kdTCiTpKP0Rh"
      },
      "outputs": [],
      "source": [
        "#import modules\n",
        "from openai import OpenAI\n",
        "import pandas as pd\n",
        "client = OpenAI(api_key = 'sk-svcacct-3i9xo16XX9bCG6OxE5LXT3BlbkFJrfdBVEzw9RnMi8pfMtAy')"
      ]
    },
    {
      "cell_type": "code",
      "execution_count": 72,
      "metadata": {
        "id": "JS1wqcDJmRNY"
      },
      "outputs": [],
      "source": [
        "#load data\n",
        "reviews = pd.read_csv(\"book_reviews.csv\")\n",
        "books = pd.read_csv(\"books.csv\")\n",
        "reviews= reviews.drop(reviews.columns[0], axis = 1)\n",
        "books= books.drop(books.columns[0], axis = 1)"
      ]
    },
    {
      "cell_type": "code",
      "execution_count": 73,
      "metadata": {
        "id": "btidjsddmhtR"
      },
      "outputs": [],
      "source": [
        "#%% merge data\n",
        "books = books[['book title', 'author']]\n",
        "books.columns=['book name', 'author']\n",
        "reviews = reviews.merge(books, on = 'book name', how = 'left')"
      ]
    },
    {
      "cell_type": "code",
      "execution_count": 87,
      "metadata": {
        "id": "KaJW9oskrew4"
      },
      "outputs": [],
      "source": [
        "#function to filter required summaries\n",
        "def filtered_summaries(author_name, titles):\n",
        "    filtered_df = reviews[reviews['author'] == author_name]\n",
        "    if titles == 'All':\n",
        "        return filtered_df\n",
        "    if isinstance(titles, (list, tuple, set)):\n",
        "        titles = set(titles)\n",
        "        filtered_df = filtered_df[filtered_df['book name'].isin(titles)]\n",
        "        return filtered_df\n",
        "    titles = str(titles)\n",
        "    filtered_df = filtered_df[filtered_df['book name'] == titles]\n",
        "    return filtered_df\n",
        "\n",
        "#function to colate the filtered summary\n",
        "def collate_summaries(filtered_df):\n",
        "    review_summaries_collated = \"\"\n",
        "    for i,row in filtered_df.iterrows():\n",
        "        review_summaries_collated += row['review title'] + \" - \" + str(row['reviewer rating']) + \" - \" + row['review description'] + \"\\n\\n\"\n",
        "    return review_summaries_collated\n"
      ]
    },
    {
      "cell_type": "code",
      "execution_count": 75,
      "metadata": {
        "id": "r8660P5hhr2q"
      },
      "outputs": [],
      "source": [
        "#function to generate summary of review using GPT Model\n",
        "def generate_response(author_name, collated_summaries):\n",
        "    try:\n",
        "        prompt = f\"\"\"Below are some collated reviews for a few books of {author_name}.\n",
        "                    Reviews are in format \"Title - Rating - Review\"\n",
        "                    Summarize the top 3-5 positive and top 3-5 negative takeaways from the reviews.\n",
        "                    Also highlight the improvement areas for the author for his/her next work.\n",
        "                    Remember to ignore if a comment is irrelavant to the book/work\n",
        "                    \"\"\"\n",
        "        response = client.chat.completions.create(\n",
        "                model=\"gpt-4o-mini\",\n",
        "                messages=[\n",
        "                    {\"role\": \"system\", \"content\": prompt},\n",
        "                    {\"role\": \"user\", \"content\": collated_summaries}\n",
        "                ],\n",
        "                max_tokens=10000\n",
        "            )\n",
        "        return response.choices[0].message.content\n",
        "    except Exception as e:\n",
        "        print(e)\n"
      ]
    },
    {
      "cell_type": "code",
      "execution_count": 76,
      "metadata": {
        "id": "pz8nSa-Xrzb9"
      },
      "outputs": [],
      "source": [
        "#main function to process input\n",
        "def summarize_books(author_name, titles):\n",
        "    filtered_df = filtered_summaries(author_name, titles)\n",
        "    collated_summaries = collate_summaries(filtered_df)\n",
        "    response = generate_response(author_name, collated_summaries)\n",
        "    print(response)"
      ]
    },
    {
      "cell_type": "code",
      "execution_count": 77,
      "metadata": {
        "colab": {
          "base_uri": "https://localhost:8080/"
        },
        "id": "8cZ_bhtTsAtL",
        "outputId": "8b957add-b3e3-4253-c50b-d9535eb912fe"
      },
      "outputs": [
        {
          "name": "stdout",
          "output_type": "stream",
          "text": [
            "### Positive Takeaways:\n",
            "1. **Engagement and Enjoyment**: Many reviews highlight that children love these books, indicating high engagement and entertainment value, particularly during readings in classrooms or at home.\n",
            "2. **Educational Value**: The stories are noted for their ability to teach vocabulary and sequencing, making them valuable resources for both teachers and parents.\n",
            "3. **Illustration Appeal**: The cute pictures and illustrations draw positive feedback, enhancing the overall reading experience for young audiences.\n",
            "4. **Suitability for Young Readers**: The repetitive phrases and simple language make these books accessible, allowing children to engage in the reading process and even read along.\n",
            "5. **Positive Classroom Impact**: Teachers find these books suitable for their lessons, particularly around holidays like Thanksgiving, suggesting they fit well into educational curricula.\n",
            "\n",
            "### Negative Takeaways:\n",
            "1. **Inconsistent Quality**: Some readers express disappointment with certain titles, indicating that not all books in the series resonate with children, as was the case with \"The Was an Old Lady Who Swallowed a Bat.\"\n",
            "2. **Humor and Rhymes**: A few reviews mention odd rhymes and a lack of humor in some books, which detracts from the enjoyment that defines other titles in the series.\n",
            "3. **Durability Issues**: Concerns were raised about the paperback format being less durable, especially for younger children who might easily damage pages.\n",
            "4. **Mixed Responses from Audience**: While many children enjoyed the books, not all titles had universal appeal, suggesting that consistency across the series could be improved.\n",
            "5. **Content Variation**: Some readers felt that the content did not meet their expectations compared to other titles, indicating a need for more rigorous quality checks.\n",
            "\n",
            "### Improvement Areas for Next Work:\n",
            "1. **Consistency in Quality**: The author could focus on maintaining a high standard across all titles to ensure that each book resonates with children.\n",
            "2. **Enhancing Humor and Rhymes**: Introducing more engaging and funny elements to the stories could help retain children's interest and enjoyment.\n",
            "3. **Durability of Materials**: Considering the target audience, using more durable formats or designs could alleviate concerns about damage during early reading experiences.\n",
            "4. **Audience Testing**: Conducting thorough audience testing before publication might provide insights into what children enjoy most and help refine the content to better suit young readers.\n",
            "5. **Diverse Themes and Characters**: Expanding the themes and characters could engage a broader audience, offering different perspectives and experiences that children can relate to.\n"
          ]
        }
      ],
      "source": [
        "#sample input-1\n",
        "author_name = 'Lucille Colandro'\n",
        "titles = 'All'\n",
        "\n",
        "summarize_books(author_name, titles)"
      ]
    },
    {
      "cell_type": "code",
      "execution_count": 78,
      "metadata": {
        "colab": {
          "base_uri": "https://localhost:8080/"
        },
        "id": "xNMK1p9klCfX",
        "outputId": "f1905154-23c5-4c2d-bf39-a0cbd5361e3f"
      },
      "outputs": [
        {
          "name": "stdout",
          "output_type": "stream",
          "text": [
            "### Positive Takeaways:\n",
            "1. **Compelling Narrative**: Many readers found David Grann's works to be gripping and well-researched, effectively blending history and storytelling. His ability to transform historical events into engaging narratives has been praised, making complex topics accessible and relatable.\n",
            "   \n",
            "2. **Extensive Research**: Grann's thorough research is a consistent highlight, with reviewers appreciating the depth of detail and the incorporation of primary sources such as personal diaries and documents from the period.\n",
            "\n",
            "3. **Emotional Impact**: The emotional weight of the subjects he tackles, especially the tragic history of the Osage people, resonates with readers. His writing evokes a strong emotional response and a reflection on historical injustices.\n",
            "\n",
            "4. **Educational Value**: Reviewers noted that Grann's books offer profound insights into historical events that are often overlooked or forgotten, asserting that his works should be included in educational curricula to raise awareness about these issues.\n",
            "\n",
            "5. **Character Development**: Readers enjoyed the depth of character exploration, particularly in books like \"The Wager,\" where Grann effectively portrays the complexities and moral ambiguities of the individuals involved.\n",
            "\n",
            "### Negative Takeaways:\n",
            "1. **Pacing Issues**: Some readers felt that the pacing was inconsistent, with parts of the narrative lagging behind the compelling moments. They mentioned slow starts that made it challenging to engage from the outset.\n",
            "\n",
            "2. **Lack of Dialogue**: A few critics pointed out the absence of dialogue, suggesting that the narrative could feel dry at times as a result, longing for more direct quotes or interactions to bring the characters to life more vividly.\n",
            "\n",
            "3. **Excessive Detail**: While many appreciated the thoroughness of his research, some found certain sections overly detailed, which could detract from the reading experience and the story’s overall flow.\n",
            "\n",
            "4. **Formatting Challenges in Digital Versions**: Readers using Kindle versions mentioned that some formatting issues, particularly with footnotes and pages merging with additional content, made for a less fluid reading experience.\n",
            "\n",
            "5. **Complexity in Character Tracking**: In stories with many characters, like \"The Wager,\" some readers felt it challenging to keep track of the numerous historical figures and their respective roles within the narrative, suggesting a need for better character mapping or summaries.\n",
            "\n",
            "### Improvement Areas:\n",
            "- **Enhance Pacing**: Future works might benefit from a tighter pacing approach, especially in the beginning chapters, to keep readers engaged right from the start.\n",
            "  \n",
            "- **Incorporate Dialogue**: Adding more dialogue, whether derived from historical records or creative reconstruction, could enrich the narrative and provide more immediacy to the characters’ experiences.\n",
            "\n",
            "- **Streamline Details**: Balancing the level of detail to ensure that it contributes meaningfully to the story while maintaining reader engagement is crucial.\n",
            "\n",
            "- **Digital Formatting**: Ensuring that electronic versions are well-formatted and reader-friendly can improve accessibility and enjoyment for digital readers.\n",
            "\n",
            "- **Character Summaries**: Providing quick reference guides or character summaries, especially in books with large casts, could help readers follow the story more easily and enhance understanding of the narrative dynamics.\n"
          ]
        }
      ],
      "source": [
        "#sample input-2\n",
        "author_name = 'David Grann'\n",
        "titles = ['Killers of the Flower Moon: The Osage Murders and the Birth of the FBI', 'The Wager: A Tale of Shipwreck, Mutiny and Murder']\n",
        "\n",
        "summarize_books(author_name, titles)"
      ]
    },
    {
      "cell_type": "code",
      "execution_count": 88,
      "metadata": {
        "colab": {
          "base_uri": "https://localhost:8080/"
        },
        "id": "IlTyJdcdluPv",
        "outputId": "d8ccb0ba-71af-468b-8020-4095884ba891"
      },
      "outputs": [
        {
          "name": "stdout",
          "output_type": "stream",
          "text": [
            "### Positive Takeaways:\n",
            "1. **Engaging Writing Style**: Many readers appreciate Grann's smooth, unobtrusive writing style. His ability to make historical events come alive transforms potentially dry subjects into compelling narratives.\n",
            "   \n",
            "2. **Deep Research**: Grann’s extensive research into the Osage murders, legal inequalities, and societal corruption is highlighted as a major strength, providing both depth and factual authenticity that enhances the book's overall impact.\n",
            "\n",
            "3. **Historical Importance**: Reviewers commend the book for shedding light on a dark chapter in American history that is often overlooked. The educational value and relevance of the subject matter amplify its significance for modern readers.\n",
            "\n",
            "4. **Character Development**: The portrayal of key figures such as Molly Burkhart and Tom White resonated with readers, offering a personal touch to the historical events and making them relatable and profound.\n",
            "\n",
            "5. **Gripping Narrative**: The book reads like a thriller, with suspense and tension building throughout, engaging readers who found it difficult to put down. The interweaving of personal stories with broader historical context is particularly well-received.\n",
            "\n",
            "### Negative Takeaways:\n",
            "1. **Pacing Issues**: Some readers mentioned that although the book is educational and well-researched, its pacing can be slow at times, which may detract from the engagement factor for certain audiences.\n",
            "\n",
            "2. **Lack of Depth in Some Areas**: A few reviews indicated that while the core story is well-developed, there are areas of the narrative that could have benefitted from more depth or exploration, leading to an incomplete feeling in certain sections.\n",
            "\n",
            "3. **Additional Context Needed**: While the book is praised for its storytelling, some reviewers felt it could have included more context about the broader implications of the events and parallels in modern society to enhance readers' understanding.\n",
            "\n",
            "### Improvement Areas for Future Works:\n",
            "- **Enhance Pacing and Flow**: Maintaining a more consistent pacing throughout the narrative could keep readers more engaged, ensuring that the educational aspects do not hinder the story's suspense.\n",
            "  \n",
            "- **Broaden Contextual Analyses**: Incorporating more extensive commentary on the broader historical and social ramifications of the events discussed, especially in relation to contemporary issues, might enrich the reader's experience and understanding.\n",
            "\n",
            "- **Depth in Supporting Characters**: Providing a more comprehensive view of some supporting characters and their motivations would deepen readers' emotional connection and understanding of the complex social dynamics at play.\n",
            "\n",
            "Overall, David Grann's works are celebrated for their narrative strength and historical significance, but there are opportunities for improvement that could enhance the reading experience even further.\n"
          ]
        }
      ],
      "source": [
        "#sample input-3\n",
        "author_name = 'David Grann'\n",
        "titles = 'Killers of the Flower Moon: The Osage Murders and the Birth of the FBI'\n",
        "\n",
        "summarize_books(author_name, titles)"
      ]
    }
  ],
  "metadata": {
    "colab": {
      "provenance": []
    },
    "kernelspec": {
      "display_name": "Python 3",
      "name": "python3"
    },
    "language_info": {
      "name": "python"
    }
  },
  "nbformat": 4,
  "nbformat_minor": 0
}
